{
 "cells": [
  {
   "cell_type": "markdown",
   "metadata": {},
   "source": [
    "# Automatic transcription of mp4 file\n",
    "\n",
    "Automatic speech recognition via Google Cloud speech-to-text.\n",
    "\n",
    "Mp4 file is converted into a flac sample, uploaded to Google Cloud Storage and than transcribed."
   ]
  },
  {
   "cell_type": "code",
   "execution_count": 11,
   "metadata": {},
   "outputs": [],
   "source": [
    "!pip install google-cloud-speech -q\n",
    "!pip install google-cloud-storage -q"
   ]
  },
  {
   "cell_type": "code",
   "execution_count": 2,
   "metadata": {},
   "outputs": [],
   "source": [
    "from google.cloud import speech_v1 as speech\n",
    "from google.oauth2 import service_account\n",
    "from google.cloud import storage"
   ]
  },
  {
   "cell_type": "code",
   "execution_count": 3,
   "metadata": {},
   "outputs": [],
   "source": [
    "creds = service_account.Credentials.from_service_account_file(\"google_credentials.json\")"
   ]
  },
  {
   "cell_type": "markdown",
   "metadata": {},
   "source": [
    "## Prepare input files\n",
    "\n",
    "A 2 minute sample is created to ascertain the speech recognition quality. The mp4 video is converted to flac and uploaded to Google Cloud Storage."
   ]
  },
  {
   "cell_type": "code",
   "execution_count": 4,
   "metadata": {},
   "outputs": [],
   "source": [
    "name = \"focus\"\n",
    "\n",
    "sample_start = 60*49\n",
    "sample_length = 118\n",
    "\n",
    "video_full = f\"data/video_full/{name}.mp4\"\n",
    "video_sample = f\"data/video_sample/{name}.mp4\"\n",
    "audio_sample = f\"data/audio_sample/{name}.flac\""
   ]
  },
  {
   "cell_type": "code",
   "execution_count": 5,
   "metadata": {},
   "outputs": [],
   "source": [
    "!\"lib/ffmpeg\" -i \"{video_full}\" -ss \"{sample_start}\" -t \"{sample_length}\" -acodec copy -vcodec copy \"{video_sample}\" -loglevel warning -hide_banner"
   ]
  },
  {
   "cell_type": "code",
   "execution_count": 6,
   "metadata": {},
   "outputs": [
    {
     "name": "stderr",
     "output_type": "stream",
     "text": [
      "[flac @ 0000027543e7c080] encoding as 24 bits-per-sample\n",
      "[flac @ 0000027543e7e380] Video stream #0 is not an attached picture. Ignoring\n"
     ]
    }
   ],
   "source": [
    "!\"lib/ffmpeg\" -i \"{video_sample}\" -acodec flac \"{audio_sample}\" -loglevel warning -hide_banner"
   ]
  },
  {
   "cell_type": "markdown",
   "metadata": {},
   "source": [
    "_upload manually to Google Cloud Storage_"
   ]
  },
  {
   "cell_type": "markdown",
   "metadata": {},
   "source": [
    "## Google Cloud speech-to-text via api"
   ]
  },
  {
   "cell_type": "code",
   "execution_count": 7,
   "metadata": {},
   "outputs": [],
   "source": [
    "config = {\n",
    "    \"language_code\": \"cs-CZ\",\n",
    "    \"audio_channel_count\": 2,\n",
    "    \"use_enhanced\": True,\n",
    "    }\n",
    "audio ={\n",
    "    \"uri\": f\"gs://akademicky-kvalitativni-vyzkum-20/{name}.flac\"\n",
    "    }\n",
    "\n",
    "speech_client = speech.SpeechClient(credentials=creds)\n",
    "response = speech_client.long_running_recognize(config=config, audio=audio)"
   ]
  },
  {
   "cell_type": "code",
   "execution_count": 12,
   "metadata": {},
   "outputs": [
    {
     "data": {
      "text/plain": [
       "100"
      ]
     },
     "execution_count": 12,
     "metadata": {},
     "output_type": "execute_result"
    }
   ],
   "source": [
    "def callback(operation_future):\n",
    "    result = operation_future.result()\n",
    "\n",
    "response.add_done_callback(callback)\n",
    "response.metadata.progress_percent"
   ]
  },
  {
   "cell_type": "markdown",
   "metadata": {},
   "source": [
    "_once the operation is finished, check the transcription_"
   ]
  },
  {
   "cell_type": "code",
   "execution_count": 13,
   "metadata": {},
   "outputs": [
    {
     "name": "stdout",
     "output_type": "stream",
     "text": [
      "a vlastně ještě nic nevím a mám toho profesora který nám před dvěma týdny ve středu řekl že pokud nepůjdeme v tuhle středu do školy tak neví jestli budeme teď ve středu psát\n",
      " zlatý mapy a řekl nám že nám dá ve středu vědět a teď jsme od nich žádný email nedostali a ten člověk má ještě ani jeden neodepsal na email a to už mi přijde trošku jako to jako ne že jako takový divný Mně to přijde od toho čekala jako ne jenom že mi přijde že ztrácím či že já ztrácím k němu nějakou jako úst nebo něco takového že prostě není tak těžké odepsat na tuhle dobu Já chápu že neodepíšeš na email když od ní Od rána do večera do školy vyučuje\n",
      " ale když utáhnu s ní vlastně denně u toho počítače a víš že vlastně ten email a teďkon jediná komunikace s těmi studentami tak\n",
      " na den a Znám pár lidí od nás z oboru nebo jako přímo specializace že jim taky neodepsal\n",
      " že nevím a já už musela nechce že se radši učím aby náhodou nepřišla ve středu tak si napíšeme mapy\n",
      " mají ještě podobnou zkušenost s tím že ta komunikace drhne takhle po emailu jako bojím toho taky dám že něco chtěla bych ale nemám moc Takovou informaci co a jak bude a vlastně vůbec ani nevím jak probíhá to zkouškový takže zase to docela jako bojím protože nevím vůbec jako co bude no\n",
      " že někde v některých předmětech řekli že jako to nebude že místo toho budou nějak jako úkoly někde řekla že snad ještě jako zeptám Přímo ta profesorka a pak se jako předměty ty volitelné jako přednášky z Latinské Ameriky a tam vlastně chtěli taky nějakou Kuby za pomoc jako pro mě problém není a ty pojmy znám ale tam bylo to vlastně oni taky vůbec nevědí co kdy bude jaká jsem jako zdraví kdy to jako chtěl jako udělat všechno no jako všechny podmínky pro ten zápočet\n"
     ]
    }
   ],
   "source": [
    "for result in response.result().results:\n",
    "    best_alternative = result.alternatives[0]\n",
    "    print(best_alternative.transcript)"
   ]
  },
  {
   "cell_type": "code",
   "execution_count": null,
   "metadata": {},
   "outputs": [],
   "source": []
  }
 ],
 "metadata": {
  "kernelspec": {
   "display_name": "Python 3",
   "language": "python",
   "name": "python3"
  },
  "language_info": {
   "codemirror_mode": {
    "name": "ipython",
    "version": 3
   },
   "file_extension": ".py",
   "mimetype": "text/x-python",
   "name": "python",
   "nbconvert_exporter": "python",
   "pygments_lexer": "ipython3",
   "version": "3.7.4"
  }
 },
 "nbformat": 4,
 "nbformat_minor": 2
}
